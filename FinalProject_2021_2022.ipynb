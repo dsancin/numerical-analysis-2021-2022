{
 "cells": [
  {
   "cell_type": "code",
   "execution_count": 2,
   "id": "3fe94688",
   "metadata": {
    "id": "3fe94688"
   },
   "outputs": [],
   "source": [
    "%matplotlib inline\n",
    "from numpy import *\n",
    "from matplotlib.pyplot import *\n",
    "import copy  #serve a copiare i valori delle variabili (ad esempio in LU fattorizzazione)"
   ]
  },
  {
   "cell_type": "code",
   "execution_count": null,
   "id": "2yUETvkozE7b",
   "metadata": {
    "id": "2yUETvkozE7b"
   },
   "outputs": [],
   "source": []
  },
  {
   "cell_type": "markdown",
   "id": "8184faab",
   "metadata": {
    "id": "8184faab"
   },
   "source": [
    "Consider the following one-dimensional PDE:\n",
    "$$\n",
    "-u_{xx}(x) = f(x)\\quad\\mathrm{ in }\\ \\Omega = (0, \\pi)\n",
    "$$\n",
    "$$\n",
    "u(x) = 0, \\quad\\mathrm{ on }\\ \\partial\\Omega = \\{0, \\pi\\}\n",
    "$$\n",
    "\n",
    "Given the following $4^{th}$ order finite difference approximation of the second order derivative:\n",
    "\n",
    "$$u_{xx}(x_i) = \\frac{-u_{i-2}+16u_{i-1}-30u_i+16u_{i+1}-u_{i+2}}{12h^2}$$\n",
    "\n",
    "Implement a function that given the domain interval, the forcing function, the number of discretization points, the boundary conditions, returns the matrix $A$ and the the right hand side $b$."
   ]
  },
  {
   "cell_type": "code",
   "execution_count": 3,
   "id": "1c562f13",
   "metadata": {
    "id": "1c562f13"
   },
   "outputs": [],
   "source": [
    "def finDif(omega,f,n,bc):\n",
    "    h=(omega[1]-omega[0])/(n-1)  #definisce stepsize h\n",
    "    \n",
    "    x = zeros(n)\n",
    "    b = zeros(n)\n",
    "    for i in range (0,n):   #ciclo in cui calcolare punti di discretizzazione e i valori della funzione in tali punti\n",
    "      x[i]=i*h    #punti di discretizzazione\n",
    "      b[i]=f(x[i])   #valore della funzione in punti di discretizzazione\n",
    "    \n",
    "    b[0], b[-1]=bc   #condizioni al confine\n",
    "    \n",
    "\n",
    "\n",
    "#crea matrice A\n",
    "    A = diag([-1 for i in range(0,n-2)], -2)  \\\n",
    "    + diag([16 for i in range(0,n-1)], -1)    \\\n",
    "    + diag([-30 for i in range(0,n)])         \\\n",
    "    + diag([16 for i in range(0,n-1)], 1)     \\\n",
    "    + diag([-1 for i in range(0,n-2)], 2)      \n",
    "    \n",
    "    A=-A/(12*h**2)    #normalizzazione ?e cambio segno?\n",
    "\n",
    "    #se prima e ultima riga =1 \n",
    "    #A[0,0]=A[-1,-1]=1\n",
    "    #A[0,1]=A[0,2]=A[-1,-2]=A[-1,-3]=0\n",
    "    return A, b"
   ]
  },
  {
   "cell_type": "markdown",
   "id": "c21bb21e",
   "metadata": {
    "id": "c21bb21e"
   },
   "source": [
    "Call the function using:"
   ]
  },
  {
   "cell_type": "code",
   "execution_count": 26,
   "id": "23af8831",
   "metadata": {
    "id": "23af8831"
   },
   "outputs": [],
   "source": [
    "omega = [0,pi]\n",
    "f = lambda x : sin(x)\n",
    "n=100\n",
    "bc = [0,0]\n",
    "A, b = finDif(omega, f, n, bc)"
   ]
  },
  {
   "cell_type": "code",
   "execution_count": 27,
   "id": "bb565729-20f7-46bc-8435-c75323d2bef7",
   "metadata": {},
   "outputs": [
    {
     "data": {
      "text/plain": [
       "(array([[ 2482.6223022 , -1324.06522784,    82.75407674, ...,\n",
       "             0.        ,     0.        ,     0.        ],\n",
       "        [-1324.06522784,  2482.6223022 , -1324.06522784, ...,\n",
       "             0.        ,     0.        ,     0.        ],\n",
       "        [   82.75407674, -1324.06522784,  2482.6223022 , ...,\n",
       "             0.        ,     0.        ,     0.        ],\n",
       "        ...,\n",
       "        [    0.        ,     0.        ,     0.        , ...,\n",
       "          2482.6223022 , -1324.06522784,    82.75407674],\n",
       "        [    0.        ,     0.        ,     0.        , ...,\n",
       "         -1324.06522784,  2482.6223022 , -1324.06522784],\n",
       "        [    0.        ,     0.        ,     0.        , ...,\n",
       "            82.75407674, -1324.06522784,  2482.6223022 ]]),\n",
       " array([0.        , 0.03172793, 0.06342392, 0.09505604, 0.12659245,\n",
       "        0.1580014 , 0.18925124, 0.22031053, 0.25114799, 0.28173256,\n",
       "        0.31203345, 0.34202014, 0.37166246, 0.40093054, 0.42979491,\n",
       "        0.45822652, 0.48619674, 0.51367739, 0.54064082, 0.56705986,\n",
       "        0.59290793, 0.61815899, 0.64278761, 0.666769  , 0.69007901,\n",
       "        0.71269417, 0.73459171, 0.75574957, 0.77614646, 0.79576184,\n",
       "        0.81457595, 0.83256985, 0.84972543, 0.8660254 , 0.88145336,\n",
       "        0.89599377, 0.909632  , 0.92235429, 0.93414786, 0.94500082,\n",
       "        0.95490224, 0.96384216, 0.97181157, 0.97880245, 0.98480775,\n",
       "        0.98982144, 0.99383846, 0.99685478, 0.99886734, 0.99987413,\n",
       "        0.99987413, 0.99886734, 0.99685478, 0.99383846, 0.98982144,\n",
       "        0.98480775, 0.97880245, 0.97181157, 0.96384216, 0.95490224,\n",
       "        0.94500082, 0.93414786, 0.92235429, 0.909632  , 0.89599377,\n",
       "        0.88145336, 0.8660254 , 0.84972543, 0.83256985, 0.81457595,\n",
       "        0.79576184, 0.77614646, 0.75574957, 0.73459171, 0.71269417,\n",
       "        0.69007901, 0.666769  , 0.64278761, 0.61815899, 0.59290793,\n",
       "        0.56705986, 0.54064082, 0.51367739, 0.48619674, 0.45822652,\n",
       "        0.42979491, 0.40093054, 0.37166246, 0.34202014, 0.31203345,\n",
       "        0.28173256, 0.25114799, 0.22031053, 0.18925124, 0.1580014 ,\n",
       "        0.12659245, 0.09505604, 0.06342392, 0.03172793, 0.        ]))"
      ]
     },
     "execution_count": 27,
     "metadata": {},
     "output_type": "execute_result"
    }
   ],
   "source": [
    "A, b"
   ]
  },
  {
   "cell_type": "markdown",
   "id": "4f8a7c6f",
   "metadata": {
    "id": "4f8a7c6f"
   },
   "source": [
    "Implement two functions that compute the LU and the Cholesky factorization of the system matrix $A$"
   ]
  },
  {
   "cell_type": "code",
   "execution_count": 5,
   "id": "47468a37",
   "metadata": {
    "id": "47468a37"
   },
   "outputs": [],
   "source": [
    "def LU(A):\n",
    "\n",
    "    U=copy.copy(A)\n",
    "    L=zeros((n,n)) \n",
    "    \n",
    "    for i in range(0, n):\n",
    "      for j in range(i+1, n):\n",
    "        L[j,i]=U[j,i]/U[i,i]\n",
    "        U[j]=U[j]-L[j,i]*U[i]\n",
    "\n",
    "    fill_diagonal(L, 1) # Diagonal di matrice L uguale a 1 per ridurre numero di operazioni per risoluzione\n",
    "    \n",
    "    return L, U\n",
    "#come controllare se è corretto?\n",
    "#bisogna modificare anche b?\n",
    "#aggiungere anche metodo con pivoting?\n",
    "L, U = LU(A)"
   ]
  },
  {
   "cell_type": "code",
   "execution_count": 6,
   "id": "00c30ea4-1f1e-45e0-8ae8-b287538e0152",
   "metadata": {},
   "outputs": [
    {
     "data": {
      "text/plain": [
       "(array([[ 1.        ,  0.        ,  0.        , ...,  0.        ,\n",
       "          0.        ,  0.        ],\n",
       "        [-0.53333333,  1.        ,  0.        , ...,  0.        ,\n",
       "          0.        ,  0.        ],\n",
       "        [ 0.03333333, -0.72049689,  1.        , ...,  0.        ,\n",
       "          0.        ,  0.        ],\n",
       "        ...,\n",
       "        [ 0.        ,  0.        ,  0.        , ...,  1.        ,\n",
       "          0.        ,  0.        ],\n",
       "        [ 0.        ,  0.        ,  0.        , ..., -1.06167995,\n",
       "          1.        ,  0.        ],\n",
       "        [ 0.        ,  0.        ,  0.        , ...,  0.07107041,\n",
       "         -1.06178128,  1.        ]]),\n",
       " array([[ 2482.6223022 , -1324.06522784,    82.75407674, ...,\n",
       "             0.        ,     0.        ,     0.        ],\n",
       "        [    0.        ,  1776.45418068, -1279.92972024, ...,\n",
       "             0.        ,     0.        ,     0.        ],\n",
       "        [    0.        ,     0.        ,  1557.67844447, ...,\n",
       "             0.        ,     0.        ,     0.        ],\n",
       "        ...,\n",
       "        [    0.        ,     0.        ,     0.        , ...,\n",
       "          1164.39557823, -1236.21544017,    82.75407674],\n",
       "        [    0.        ,     0.        ,     0.        , ...,\n",
       "             0.        ,  1164.27640232, -1236.20688372],\n",
       "        [    0.        ,     0.        ,     0.        , ...,\n",
       "             0.        ,     0.        ,  1164.15961361]]))"
      ]
     },
     "execution_count": 6,
     "metadata": {},
     "output_type": "execute_result"
    }
   ],
   "source": [
    "L, U"
   ]
  },
  {
   "cell_type": "code",
   "execution_count": 7,
   "id": "193ebfed",
   "metadata": {
    "id": "193ebfed"
   },
   "outputs": [],
   "source": [
    "def cholesky(A):\n",
    "    L=zeros((n,n))\n",
    "    L[0,0]=A[0,0]**0.5\n",
    "    \n",
    "    for i in range(1,n):\n",
    "      for  j in range(i):\n",
    "        L[j, i]=(A[i,j]-dot(L[:j,i], L[:j,j]))/L[j,j]\n",
    "      L[i,i]=(A[i,i]-dot(L[:i,i], L[:i,i]))**0.5  \n",
    "    \n",
    "    return L, L.transpose()\n",
    "#controlla anche questo metodo\n",
    "HT, H = cholesky(A)"
   ]
  },
  {
   "cell_type": "code",
   "execution_count": 8,
   "id": "7ca35b36-901b-4997-ae29-c5dcfadeccba",
   "metadata": {},
   "outputs": [
    {
     "data": {
      "text/plain": [
       "(array([[ 49.82591998, -26.57382399,   1.660864  , ...,   0.        ,\n",
       "           0.        ,   0.        ],\n",
       "        [  0.        ,  42.14800328, -30.36750547, ...,   0.        ,\n",
       "           0.        ,   0.        ],\n",
       "        [  0.        ,   0.        ,  39.46743524, ...,   0.        ,\n",
       "           0.        ,   0.        ],\n",
       "        ...,\n",
       "        [  0.        ,   0.        ,   0.        , ...,  34.12324103,\n",
       "         -36.22796085,   2.42515289],\n",
       "        [  0.        ,   0.        ,   0.        , ...,   0.        ,\n",
       "          34.12149473, -36.2295642 ],\n",
       "        [  0.        ,   0.        ,   0.        , ...,   0.        ,\n",
       "           0.        ,  34.11978332]]),\n",
       " array([[ 49.82591998,   0.        ,   0.        , ...,   0.        ,\n",
       "           0.        ,   0.        ],\n",
       "        [-26.57382399,  42.14800328,   0.        , ...,   0.        ,\n",
       "           0.        ,   0.        ],\n",
       "        [  1.660864  , -30.36750547,  39.46743524, ...,   0.        ,\n",
       "           0.        ,   0.        ],\n",
       "        ...,\n",
       "        [  0.        ,   0.        ,   0.        , ...,  34.12324103,\n",
       "           0.        ,   0.        ],\n",
       "        [  0.        ,   0.        ,   0.        , ..., -36.22796085,\n",
       "          34.12149473,   0.        ],\n",
       "        [  0.        ,   0.        ,   0.        , ...,   2.42515289,\n",
       "         -36.2295642 ,  34.11978332]]))"
      ]
     },
     "execution_count": 8,
     "metadata": {},
     "output_type": "execute_result"
    }
   ],
   "source": [
    "HT, H"
   ]
  },
  {
   "cell_type": "markdown",
   "id": "41eb8436",
   "metadata": {
    "id": "41eb8436"
   },
   "source": [
    "Implement forward and backward substitution functions to exploit the developed factorization methods to solve the derived linear system of equations."
   ]
  },
  {
   "cell_type": "code",
   "execution_count": 9,
   "id": "019cf0df",
   "metadata": {
    "id": "019cf0df"
   },
   "outputs": [],
   "source": [
    "def L_solve(L,rhs):   #rhs == right hand side (b)\n",
    "\n",
    "    x=zeros(n)    #n oppure n-1?\n",
    "    x[0]=rhs[0]/L[0,0]\n",
    "    \n",
    "    for i in range (1, n):\n",
    "      x[i]=(rhs[i]-dot(L[i,:i], x[:i]))/L[i,i]\n",
    "    \n",
    "    \n",
    "    \n",
    "    return x"
   ]
  },
  {
   "cell_type": "code",
   "execution_count": 10,
   "id": "26ce17c4",
   "metadata": {
    "id": "26ce17c4"
   },
   "outputs": [],
   "source": [
    "def U_solve(U,rhs):\n",
    "    \n",
    "    x=zeros(n)    #n oppure n-1?\n",
    "    x[n-1]=rhs[n-1]/U[n-1,n-1]     #n oppure n-1?\n",
    "    \n",
    "    for i in range (n-1, -1, -1):    #ciclo da n-1 fino a zero(incluso) con decremento di -1\n",
    "      x[i] = ( rhs[i] - dot(U[i, i+1:], x[i+1:]) ) / U[i, i]   \n",
    "        \n",
    "    \n",
    "    return x"
   ]
  },
  {
   "cell_type": "markdown",
   "id": "08ac9ba1",
   "metadata": {
    "id": "08ac9ba1"
   },
   "source": [
    "Solve the derived linear system using the implemented functions and plot the computed solution:"
   ]
  },
  {
   "cell_type": "code",
   "execution_count": 11,
   "id": "7c1de4f3",
   "metadata": {
    "id": "7c1de4f3"
   },
   "outputs": [],
   "source": [
    "#data matrice A e right hand side b, trova fattorizzazione LU e risolve il sistema così trovato\n",
    "def solve_system(A, b):   \n",
    "  \n",
    "  \n",
    "  L, U = LU(A)\n",
    "    \n",
    "  y=L_solve(L, b)  #usa b originale oppure va modificato in fattorizzazione LU?\n",
    "  x=U_solve(U, y)\n",
    "    \n",
    "  return x"
   ]
  },
  {
   "cell_type": "code",
   "execution_count": 12,
   "id": "a9ba05aa-d785-43c1-9913-2b770635ffaa",
   "metadata": {},
   "outputs": [
    {
     "data": {
      "image/png": "[encoded data removed]",
      "text/plain": [
       "<Figure size 432x288 with 1 Axes>"
      ]
     },
     "metadata": {
      "needs_background": "light"
     },
     "output_type": "display_data"
    }
   ],
   "source": [
    "A, b = finDif(omega, f, n, bc)\n",
    "sol=solve_system(A, b)\n",
    "plot(linspace(omega[0], omega[1], num=n), sol)\n",
    "show()"
   ]
  },
  {
   "cell_type": "markdown",
   "id": "62cdfe65",
   "metadata": {
    "id": "62cdfe65"
   },
   "source": [
    "Considering the new domain $\\Omega = (0,1)$ and the forcing term $f(x) = x(1-x)$ with B.C. $u(x) = 0$, on $\\partial \\Omega = {0,1}$ produce a plot and a table where you show the decay of the error w.r.t. the number of grid points.\n",
    "(The analytical solution for the above problems is $u_{an} = \\frac{x^4}{12} - \\frac{x^3}{6} + \\frac{x}{12}$)"
   ]
  },
  {
   "cell_type": "code",
   "execution_count": 116,
   "id": "91212afb",
   "metadata": {
    "id": "91212afb"
   },
   "outputs": [],
   "source": [
    "#definisco i nuovi parametri del problema\n",
    "omega = [0,1]\n",
    "f = lambda x : x*(1-x)\n",
    "f_analytical= lambda x : ((x**4)/12) -((x**3)/6) + (x/12)\n",
    "n=100     #per ora n fisso, poi modificare per operare su multipli n\n",
    "bc = [0,0]"
   ]
  },
  {
   "cell_type": "code",
   "execution_count": 130,
   "id": "baff297f-2fa8-4aba-b563-b46671968a77",
   "metadata": {},
   "outputs": [],
   "source": [
    "#funzione per calcolare l'errore\n",
    "def error(omega, f, n, bc):\n",
    "  h=(omega[1]-omega[0])/(n-1)\n",
    "  x = zeros(n)   #calcolo i valori della funzione analitica negli n punti di approssimazione\n",
    "  reale=zeros(n)\n",
    "  for i in range (0,n):  \n",
    "    x[i]=i*h    \n",
    "    reale[i]=f_analytical(x[i]) \n",
    "  \n",
    "  cal=solve_system(omega, f, n, bc)   #calcolo l'approx della funzione negli n punti\n",
    "  err= max(abs(cal-reale))   #errore dell'approx, definito come il valore massimo della differenza fra approx e valore reale negli n p.ti\n",
    "  return err"
   ]
  },
  {
   "cell_type": "code",
   "execution_count": null,
   "id": "43bd9dc0-a53f-432b-aee9-6d6b34df4f6c",
   "metadata": {},
   "outputs": [],
   "source": [
    "#calcolo errore in 10 punti significativi per tabella\n",
    "errore=zeros(10)  \n",
    "i=0\n",
    "for n in (50, 100, 150, 200, 250, 300, 350, 400, 450, 500):    #per 10 valori di n computo l'errore\n",
    " errore[i]=error(omega, f, n, bc)\n",
    " i=i+1"
   ]
  },
  {
   "cell_type": "code",
   "execution_count": 138,
   "id": "c8f47f2c-42c2-4359-b01f-ded611ce574e",
   "metadata": {},
   "outputs": [],
   "source": [
    "#calcolo errore in tutto il range per il plot\n",
    "errore_plot=zeros(500)  \n",
    "i=0\n",
    "for n in range(2, 500):    #per 498 valori di n computo l'errore\n",
    " errore_plot[i]=error(omega, f, n, bc)\n",
    " i=i+1"
   ]
  },
  {
   "cell_type": "code",
   "execution_count": 183,
   "id": "aafefd98-a5fd-4a36-b090-6e45acb84eb6",
   "metadata": {},
   "outputs": [
    {
     "data": {
      "image/png": "[encoded data removed]",
      "text/plain": [
       "<Figure size 432x288 with 1 Axes>"
      ]
     },
     "metadata": {
      "needs_background": "light"
     },
     "output_type": "display_data"
    },
    {
     "name": "stderr",
     "output_type": "stream",
     "text": [
      "/tmp/ipykernel_10453/4147964188.py:9: FutureWarning: this method is deprecated in favour of `Styler.hide(axis='index')`\n",
      "  df.style.hide_index()\n"
     ]
    },
    {
     "data": {
      "text/html": [
       "<style type=\"text/css\">\n",
       "</style>\n",
       "<table id=\"T_d4a3c\">\n",
       "  <thead>\n",
       "    <tr>\n",
       "      <th id=\"T_d4a3c_level0_col0\" class=\"col_heading level0 col0\" >#points</th>\n",
       "      <th id=\"T_d4a3c_level0_col1\" class=\"col_heading level0 col1\" >error</th>\n",
       "    </tr>\n",
       "  </thead>\n",
       "  <tbody>\n",
       "    <tr>\n",
       "      <td id=\"T_d4a3c_row0_col0\" class=\"data row0 col0\" >50</td>\n",
       "      <td id=\"T_d4a3c_row0_col1\" class=\"data row0 col1\" >0.001578</td>\n",
       "    </tr>\n",
       "    <tr>\n",
       "      <td id=\"T_d4a3c_row1_col0\" class=\"data row1 col0\" >100</td>\n",
       "      <td id=\"T_d4a3c_row1_col1\" class=\"data row1 col1\" >0.000781</td>\n",
       "    </tr>\n",
       "    <tr>\n",
       "      <td id=\"T_d4a3c_row2_col0\" class=\"data row2 col0\" >150</td>\n",
       "      <td id=\"T_d4a3c_row2_col1\" class=\"data row2 col1\" >0.000519</td>\n",
       "    </tr>\n",
       "    <tr>\n",
       "      <td id=\"T_d4a3c_row3_col0\" class=\"data row3 col0\" >200</td>\n",
       "      <td id=\"T_d4a3c_row3_col1\" class=\"data row3 col1\" >0.000389</td>\n",
       "    </tr>\n",
       "    <tr>\n",
       "      <td id=\"T_d4a3c_row4_col0\" class=\"data row4 col0\" >250</td>\n",
       "      <td id=\"T_d4a3c_row4_col1\" class=\"data row4 col1\" >0.000311</td>\n",
       "    </tr>\n",
       "    <tr>\n",
       "      <td id=\"T_d4a3c_row5_col0\" class=\"data row5 col0\" >300</td>\n",
       "      <td id=\"T_d4a3c_row5_col1\" class=\"data row5 col1\" >0.000259</td>\n",
       "    </tr>\n",
       "    <tr>\n",
       "      <td id=\"T_d4a3c_row6_col0\" class=\"data row6 col0\" >350</td>\n",
       "      <td id=\"T_d4a3c_row6_col1\" class=\"data row6 col1\" >0.000222</td>\n",
       "    </tr>\n",
       "    <tr>\n",
       "      <td id=\"T_d4a3c_row7_col0\" class=\"data row7 col0\" >400</td>\n",
       "      <td id=\"T_d4a3c_row7_col1\" class=\"data row7 col1\" >0.000194</td>\n",
       "    </tr>\n",
       "    <tr>\n",
       "      <td id=\"T_d4a3c_row8_col0\" class=\"data row8 col0\" >450</td>\n",
       "      <td id=\"T_d4a3c_row8_col1\" class=\"data row8 col1\" >0.000172</td>\n",
       "    </tr>\n",
       "    <tr>\n",
       "      <td id=\"T_d4a3c_row9_col0\" class=\"data row9 col0\" >500</td>\n",
       "      <td id=\"T_d4a3c_row9_col1\" class=\"data row9 col1\" >0.000155</td>\n",
       "    </tr>\n",
       "  </tbody>\n",
       "</table>\n"
      ],
      "text/plain": [
       "<pandas.io.formats.style.Styler at 0x7ff6b6f4aa90>"
      ]
     },
     "execution_count": 183,
     "metadata": {},
     "output_type": "execute_result"
    }
   ],
   "source": [
    "#plot\n",
    "plot(range(2,500), errore_plot[2:500])  #plot dell'errore in funzione del numero di punti di approssimazione (da 2 a 500)\n",
    "show()\n",
    "\n",
    "#tabella\n",
    "import pandas\n",
    "data = {'#points': [50, 100, 150, 200, 250, 300, 350, 400, 450, 500], 'error': errore}\n",
    "df = pandas.DataFrame(data=data)\n",
    "df.style.hide_index()"
   ]
  },
  {
   "cell_type": "markdown",
   "id": "c8d5002f",
   "metadata": {
    "id": "c8d5002f"
   },
   "source": [
    "Exploit the derived LU factorizations to compute the condition number of the system's matrix $A$ using the original problem formulation."
   ]
  },
  {
   "cell_type": "code",
   "execution_count": 4,
   "id": "3ec1b30e-a61b-4150-b7b4-57cda4c7fc40",
   "metadata": {},
   "outputs": [],
   "source": [
    "#parametri problema originale\n",
    "omega = [0,pi]\n",
    "f = lambda x : sin(x)\n",
    "n=100\n",
    "bc = [0,0]\n",
    "A, b = finDif(omega, f, n, bc)"
   ]
  },
  {
   "cell_type": "markdown",
   "id": "85d5f64e",
   "metadata": {},
   "source": [
    "Compute the inverse of the matrix A exploiting the derived LU factorization"
   ]
  },
  {
   "cell_type": "code",
   "execution_count": 34,
   "id": "208e7a2d-efda-47dd-916a-94a79ad0a231",
   "metadata": {},
   "outputs": [],
   "source": [
    "def inverse(A):\n",
    "  \n",
    "  L, U =LU(A)  #fattorizzazione LU\n",
    "  inv_A=copy.copy(A)    \n",
    "  I = identity(shape(A)[0])\n",
    "\n",
    "  for k in range(shape(A)[0]):\n",
    "    X = L_solve(L, I[:, k])\n",
    "    inv_A[:, k] = U_solve(U, X)\n",
    "  \n",
    "  return inv_A"
   ]
  },
  {
   "cell_type": "code",
   "execution_count": 47,
   "id": "c25fc1fe",
   "metadata": {
    "id": "c25fc1fe"
   },
   "outputs": [],
   "source": [
    "def condNumb(A):\n",
    "    inv_A=inverse(A)\n",
    "    condNu = max(sum(abs(A), axis=1))*max(sum(abs(inv_A), axis=1))    #calcola condition number\n",
    "\n",
    "    return condNu"
   ]
  },
  {
   "cell_type": "code",
   "execution_count": 48,
   "id": "0668ee53-77d4-45a1-82cb-9d95c280962b",
   "metadata": {},
   "outputs": [
    {
     "data": {
      "text/plain": [
       "6778.960726779696"
      ]
     },
     "execution_count": 48,
     "metadata": {},
     "output_type": "execute_result"
    }
   ],
   "source": [
    "cond=condNumb(A)\n",
    "cond"
   ]
  },
  {
   "cell_type": "markdown",
   "id": "2728b49a",
   "metadata": {
    "id": "2728b49a"
   },
   "source": [
    "Implement a preconditioned Conjugant Gradient method to solve the original linear system of equations using an iterative method:"
   ]
  },
  {
   "cell_type": "code",
   "execution_count": 42,
   "id": "62b83aee",
   "metadata": {
    "id": "62b83aee"
   },
   "outputs": [],
   "source": [
    "#def conjugate_gradient(A, b, P, nmax=len(A), eps=1e-10): #P se aggiungo pivoting in fattorizzazione LU?\n",
    "def conjugate_gradient(A, b, nmax=len(A), eps=1e-10):\n",
    "    \n",
    "    #inizializzazione parametri metodo\n",
    "  P = identity(shape(A)[0])   #in questo caso uso matrice identità come preconditioner \n",
    "  x=zeros(n)                  \n",
    "  r=b-A.dot(x)\n",
    "  z=solve_system(P, r)\n",
    "  p=copy.copy(z)\n",
    "\n",
    "    #applicazione metodo\n",
    "  for k in range (1, nmax):\n",
    "    if linalg.norm(r) < eps:    #quando errore è sufficientemente piccolo interrompe il ciclo\n",
    "      break\n",
    "        \n",
    "    alpha = p.dot(r) / A.dot(p).dot(p)\n",
    "    x=x+alpha*p\n",
    "    r=r-alpha*A.dot(p)\n",
    "    z=solve_system(P, r)\n",
    "    beta = A.dot(p).dot(z) / A.dot(p).dot(p)\n",
    "    p = z - beta*p\n",
    "        \n",
    "  return x"
   ]
  },
  {
   "cell_type": "code",
   "execution_count": 45,
   "id": "bce1a8d7-0fa8-4445-b7e4-6b03f5b67ceb",
   "metadata": {},
   "outputs": [
    {
     "data": {
      "image/png": "[encoded data removed]",
      "text/plain": [
       "<Figure size 432x288 with 1 Axes>"
      ]
     },
     "metadata": {
      "needs_background": "light"
     },
     "output_type": "display_data"
    }
   ],
   "source": [
    "#applico funzione appena definita a problema originale\n",
    "sol_conj=conjugate_gradient(A, b)\n",
    "plot(linspace(omega[0], omega[1], num=n), sol_conj)\n",
    "show()"
   ]
  },
  {
   "cell_type": "markdown",
   "id": "36936121",
   "metadata": {
    "id": "36936121"
   },
   "source": [
    "Given the original $Au = b$ system, implement an algorithm to compute the eigenvalues and eigenvectors of the matrix $A$. Exploit the computed LU factorization"
   ]
  },
  {
   "cell_type": "code",
   "execution_count": 4,
   "id": "3ffe0689",
   "metadata": {
    "id": "3ffe0689"
   },
   "outputs": [],
   "source": [
    "#parametri problema originale\n",
    "omega = [0,pi]\n",
    "f = lambda x : sin(x)\n",
    "n=100\n",
    "bc = [0,0]\n",
    "A, b = finDif(omega, f, n, bc)"
   ]
  },
  {
   "cell_type": "code",
   "execution_count": 85,
   "id": "85acd3b5-811a-41a9-a626-6569d99526e7",
   "metadata": {},
   "outputs": [],
   "source": [
    "#power method per cercare autovalore massimo\n",
    "def Power_Method(A, tol=1e-5,nmax=5000):\n",
    "  z0=ones(n) #valore iniziale arbitrario \n",
    "  i=0\n",
    "  q = z0/linalg.norm(z0)  \n",
    "  err=tol+1  \n",
    "  while i<nmax and err>tol:\n",
    "    z=dot(A,q)\n",
    "    l=dot(q.T,z)\n",
    "    err=linalg.norm(z-l*q)\n",
    "    q=z/linalg.norm(z)\n",
    "    i=i+1 \n",
    "    \n",
    "  print(\"error =\", err, \"iterations =\", i)\n",
    "  print(\"lambda_max =\", l)\n",
    "\n",
    "  return l,q\n",
    "\n",
    " \n",
    "#usa fattorizzazione LU in calcolo matrice inversa\n",
    "#inverse power method per cercare autovalore minimo \n",
    "def Inverse_Power_Method(A, tol=1e-5,nmax=5000):   \n",
    "  z0=ones(n) #valore iniziale arbitrario\n",
    "  i=0\n",
    "  q = z0/linalg.norm(z0)  \n",
    "  err=tol+1  \n",
    "  while i<nmax and err>tol:\n",
    "    z=dot(inverse(A),q)\n",
    "    mu=dot(q.T,z)\n",
    "    err=linalg.norm(z-mu*q)\n",
    "    q=z/linalg.norm(z)\n",
    "    i=i+1 \n",
    "    \n",
    "  print(\"error =\", err, \"iterations =\", i)\n",
    "  print(\"lambda_min =\", 1/mu)\n",
    "\n",
    "  return 1/mu,q\n",
    "\n",
    "#inverse shifted power method per trovare autovalore vicino a un dato valore. \n",
    "def Inverse_Shifted_Power_Method(A, const, tol=1e-5,nmax=50):    #const valore vicino cui cercare\n",
    "    \n",
    "  I = identity(shape(A)[0])\n",
    "  A_const=A-const*I\n",
    "  z0=ones(n) #valore iniziale arbitrario\n",
    "  i=0\n",
    "  q = z0/linalg.norm(z0)  \n",
    "  err=tol+1  \n",
    "  while i<nmax and err>tol:\n",
    "    z=dot(inverse(A_const),q)\n",
    "    l_const=1/dot(q.T,z)\n",
    "    err=1/linalg.norm(z-l_const*q)   #errore è 1/linalg.norm(z-l_const*q) o linalg.norm(z-l_const*q)?\n",
    "    q=z/linalg.norm(z)\n",
    "    i=i+1 \n",
    "    \n",
    "  print(\"error =\", err, \"iterations =\", i)\n",
    "  print(\"lambda_int =\", l_const+const)\n",
    "\n",
    "  return l_const+const,q"
   ]
  },
  {
   "cell_type": "code",
   "execution_count": 74,
   "id": "faac00c7-da1f-442d-9645-e3684d152f36",
   "metadata": {},
   "outputs": [
    {
     "name": "stdout",
     "output_type": "stream",
     "text": [
      "error = 9.989064856278863e-06 iterations = 4186\n",
      "lambda_max = 5289.872312277477\n",
      "error = 5.205144222222629e-06 iterations = 6\n",
      "lambda_min = 0.9637373624502266\n"
     ]
    }
   ],
   "source": [
    "#calcola autovalori minimi e massimi\n",
    "l_max, q_max=Power_Method(A)\n",
    "l_min, q_min=Inverse_Power_Method(A)"
   ]
  },
  {
   "cell_type": "code",
   "execution_count": 88,
   "id": "c51dbd12-c507-4b62-a30b-2cce9861304f",
   "metadata": {},
   "outputs": [],
   "source": [
    "#possibile modo per calcolare gli autovalori:\n",
    "\n",
    "#conoscendo autovalori min/max implementare funzione in ciclo per vari valori inclusi in min/max, considero step  (l_max-l_min)/n\n",
    "#come considerare molteplicità autovalori? possibile soluzione: if l(i+1)==l(i)?+-errore?   ->salva in altra tupla (aggiungi anche modo di calcolare molteplicità)\n",
    "#molto lento, interrotto prima di finire esecuzione, come sistemare?\n",
    "#l=zeros(n)\n",
    "#q=zeros(n)\n",
    "#for const in range(l_min, l_max, (l_max-l_min)/n):\n",
    "#  l, q=Inverse_Shifted_Power_Method(A, const)\n",
    "\n",
    "\n",
    "#soluzione alternativa: implementa cerchi gersgorin"
   ]
  },
  {
   "cell_type": "markdown",
   "id": "8a4cfc02",
   "metadata": {
    "id": "8a4cfc02",
    "tags": []
   },
   "source": [
    "Consider the following time dependent variation of the PDE starting from the orginal problem formulation:\n",
    "$$\n",
    "u'(t)-u_{xx} = \\alpha(t)f(x)\n",
    "$$\n",
    "\n",
    "for $t\\in [0,T]$, with $\\alpha(t) = \\cos(t)$ and $T = 6\\pi$\n",
    "\n",
    "Use the same finite difference scheme to derive the semi-discrete formulation and solve it using a forward Euler's method.\n",
    "\n",
    "Plot the time dependent solution solution at $x = \\pi/2$, $x=1$, \n",
    "$x=\\pi$\n"
   ]
  },
  {
   "cell_type": "code",
   "execution_count": null,
   "id": "6ad7199f",
   "metadata": {
    "id": "6ad7199f"
   },
   "outputs": [],
   "source": [
    "#TODO"
   ]
  },
  {
   "cell_type": "markdown",
   "id": "cb22566e",
   "metadata": {
    "id": "cb22566e"
   },
   "source": [
    "Consider the following Cauchy problem\n",
    "$$\n",
    "\\begin{cases}\n",
    "y'= -ty^2 \\quad 0\\le t \\le 2\\\\\n",
    "y(0) = 1\n",
    "\\end{cases}\n",
    "$$\n",
    "Implement a Backward Euler's method in a suitable function and solve the resulting non-linear equation using a Newton's method."
   ]
  },
  {
   "cell_type": "code",
   "execution_count": null,
   "id": "3184e358",
   "metadata": {
    "id": "3184e358"
   },
   "outputs": [],
   "source": [
    "#TODO"
   ]
  }
 ],
 "metadata": {
  "colab": {
   "name": "FinalProject-2021-2022.ipynb",
   "provenance": []
  },
  "kernelspec": {
   "display_name": "Python 3 (ipykernel)",
   "language": "python",
   "name": "python3"
  },
  "language_info": {
   "codemirror_mode": {
    "name": "ipython",
    "version": 3
   },
   "file_extension": ".py",
   "mimetype": "text/x-python",
   "name": "python",
   "nbconvert_exporter": "python",
   "pygments_lexer": "ipython3",
   "version": "3.9.7"
  }
 },
 "nbformat": 4,
 "nbformat_minor": 5
}
